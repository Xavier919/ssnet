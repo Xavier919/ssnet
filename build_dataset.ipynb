{
 "cells": [
  {
   "cell_type": "code",
   "execution_count": 2,
   "id": "31acacf0-ab80-4c11-aee6-9d55d20c235c",
   "metadata": {},
   "outputs": [],
   "source": [
    "import musdb\n",
    "from modules.model import ssnet\n",
    "import torch\n",
    "import torch.optim as optim\n",
    "import torch.nn as nn\n",
    "from tqdm.notebook import tqdm\n",
    "import pickle"
   ]
  },
  {
   "cell_type": "code",
   "execution_count": null,
   "id": "ce44aea6-7eac-4b03-905f-cc0d977a54fa",
   "metadata": {},
   "outputs": [],
   "source": []
  },
  {
   "cell_type": "code",
   "execution_count": 3,
   "id": "ae956ad3-d6c7-4d87-8ce6-f0f9874b131b",
   "metadata": {},
   "outputs": [],
   "source": [
    "ssnet_ = ssnet().float()"
   ]
  },
  {
   "cell_type": "code",
   "execution_count": 4,
   "id": "b941f0ba-e650-4dfc-890d-4de1b8e2ea2e",
   "metadata": {},
   "outputs": [],
   "source": [
    "mus = musdb.DB(root=\"data/musdb18\")"
   ]
  },
  {
   "cell_type": "code",
   "execution_count": null,
   "id": "83717971-7202-4bca-888d-2e6a4b945bc4",
   "metadata": {},
   "outputs": [],
   "source": []
  },
  {
   "cell_type": "code",
   "execution_count": 7,
   "id": "1e3b6f31-5e5e-44c8-8152-e42a4c3b51e8",
   "metadata": {},
   "outputs": [
    {
     "data": {
      "application/vnd.jupyter.widget-view+json": {
       "model_id": "d5e9ea63c0ea44dea6b19def347a5d88",
       "version_major": 2,
       "version_minor": 0
      },
      "text/plain": [
       "  0%|          | 0/150 [00:00<?, ?it/s]"
      ]
     },
     "metadata": {},
     "output_type": "display_data"
    }
   ],
   "source": [
    "dataset = []\n",
    "frames = 30000\n",
    "for t in tqdm(mus):\n",
    "    audio = t.audio\n",
    "    audio_len = audio.shape[0]\n",
    "    if audio_len > 7500000:\n",
    "        continue\n",
    "    target = t.stems[4]\n",
    "    slices = list(range(0, audio_len, frames))\n",
    "    for i in range(0, slices[-1], frames):\n",
    "        if slices[-1] - i < frames:\n",
    "            continue\n",
    "        x = torch.tensor(audio[i:i+frames]).T.float()\n",
    "        x = x.view(1,2,-1)\n",
    "        y = torch.tensor(target[i:i+frames]).T.float()\n",
    "        y = y.view(1,2,-1)\n",
    "        dataset.append((x,y))"
   ]
  },
  {
   "cell_type": "code",
   "execution_count": 10,
   "id": "4d96ae35-7bff-4597-99cc-610b39cfd660",
   "metadata": {},
   "outputs": [],
   "source": [
    "pickle.dump(dataset, open('dataset.pkl', 'wb'))"
   ]
  },
  {
   "cell_type": "code",
   "execution_count": null,
   "id": "6a893052-9790-4d1c-b361-d5f067a11733",
   "metadata": {},
   "outputs": [],
   "source": []
  }
 ],
 "metadata": {
  "kernelspec": {
   "display_name": "Python 3 (ipykernel)",
   "language": "python",
   "name": "python3"
  },
  "language_info": {
   "codemirror_mode": {
    "name": "ipython",
    "version": 3
   },
   "file_extension": ".py",
   "mimetype": "text/x-python",
   "name": "python",
   "nbconvert_exporter": "python",
   "pygments_lexer": "ipython3",
   "version": "3.9.18"
  }
 },
 "nbformat": 4,
 "nbformat_minor": 5
}
