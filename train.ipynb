{
 "cells": [
  {
   "cell_type": "code",
   "execution_count": null,
   "id": "25c1d75a-3b78-4dc9-b398-91a84105d6a2",
   "metadata": {},
   "outputs": [],
   "source": [
    "#from google.colab import drive\n",
    "#drive.mount('/content/drive', force_remount=True)\n",
    "#cd /content/drive/My Drive"
   ]
  },
  {
   "cell_type": "code",
   "execution_count": null,
   "id": "6fe74e33-9dc9-4ec4-a883-636c74b1f649",
   "metadata": {},
   "outputs": [],
   "source": []
  },
  {
   "cell_type": "code",
   "execution_count": null,
   "id": "eb559555-a0ea-484f-a8cd-51a236dbff24",
   "metadata": {},
   "outputs": [],
   "source": [
    "import torch\n",
    "import torch.optim as optim\n",
    "import torch.nn as nn\n",
    "#from moviepy.editor import AudioFileClip, ColorClip\n",
    "#from scipy.io.wavfile import write\n",
    "from modules.model import ssnet\n",
    "import pickle"
   ]
  },
  {
   "cell_type": "code",
   "execution_count": null,
   "id": "5f6baaa7-d0c3-4cff-b338-e71b60c79135",
   "metadata": {},
   "outputs": [],
   "source": [
    "dataset = pickle.load(open('modules/dataset.pkl', 'rb'))"
   ]
  },
  {
   "cell_type": "code",
   "execution_count": null,
   "id": "ecd30c98-a374-426e-8bf7-5f75ddbeb559",
   "metadata": {},
   "outputs": [],
   "source": [
    "ssnet_ = ssnet().float()"
   ]
  },
  {
   "cell_type": "code",
   "execution_count": null,
   "id": "2cc00ba5-b6df-44f0-9c7b-1c2dc489388e",
   "metadata": {},
   "outputs": [],
   "source": [
    "optimizer = optim.Adam(ssnet_.parameters(),lr =0.01, weight_decay=0)\n",
    "loss_function = nn.MSELoss(reduction='mean')"
   ]
  },
  {
   "cell_type": "code",
   "execution_count": null,
   "id": "8ed65245-581f-4a59-93ef-62932268dc4d",
   "metadata": {},
   "outputs": [],
   "source": [
    "ssnet_.train()\n",
    "for epoch in range(100):\n",
    "  for i in dataset:\n",
    "    x,y = i[0], i[1]\n",
    "    out = ssnet_(x)\n",
    "    ssnet_.zero_grad()\n",
    "    loss = loss_function(out, y)\n",
    "    loss.backward()\n",
    "    optimizer.step()\n",
    "    print(loss)"
   ]
  },
  {
   "cell_type": "code",
   "execution_count": null,
   "id": "1a10cf89-d66c-4b66-b7fe-786569f9c9f2",
   "metadata": {},
   "outputs": [],
   "source": [
    "ssnet_.eval()"
   ]
  },
  {
   "cell_type": "code",
   "execution_count": null,
   "id": "32e4089b-f1ae-4d40-ace9-845394a4933d",
   "metadata": {},
   "outputs": [],
   "source": []
  },
  {
   "cell_type": "code",
   "execution_count": null,
   "id": "f6035ead-fce2-4648-8d94-8766ab0fa20e",
   "metadata": {},
   "outputs": [],
   "source": [
    "#sample_rate = 44100\n",
    "#wav_file = \"output.wav\"\n",
    "#write(wav_file, sample_rate, audio_data)\n",
    "#audio_clip = AudioFileClip(wav_file)\n",
    "#video_duration = audio_clip.duration\n",
    "#video_clip = ColorClip(size=(640, 480), color=(0, 0, 0), duration=video_duration)\n",
    "#video_clip = video_clip.set_audio(audio_clip)\n",
    "#video_clip.fps = 24\n",
    "#mp4_file = \"output.mp4\"\n",
    "#video_clip.write_videofile(mp4_file, codec=\"libx264\", audio_codec=\"aac\", fps=24)"
   ]
  }
 ],
 "metadata": {
  "kernelspec": {
   "display_name": "Python 3 (ipykernel)",
   "language": "python",
   "name": "python3"
  },
  "language_info": {
   "codemirror_mode": {
    "name": "ipython",
    "version": 3
   },
   "file_extension": ".py",
   "mimetype": "text/x-python",
   "name": "python",
   "nbconvert_exporter": "python",
   "pygments_lexer": "ipython3",
   "version": "3.9.18"
  }
 },
 "nbformat": 4,
 "nbformat_minor": 5
}
