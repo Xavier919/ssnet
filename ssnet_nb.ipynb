{
 "cells": [
  {
   "cell_type": "code",
   "execution_count": null,
   "id": "e341d394-3e01-47af-8c01-fb74e030ef1f",
   "metadata": {},
   "outputs": [],
   "source": [
    "### FOR COLAB ONLY ###"
   ]
  },
  {
   "cell_type": "code",
   "execution_count": null,
   "id": "dfba7f55-280f-4e41-98c1-58dd5e448b45",
   "metadata": {},
   "outputs": [],
   "source": [
    "#from google.colab import drive\n",
    "#drive.mount('/content/drive', force_remount=True)"
   ]
  },
  {
   "cell_type": "code",
   "execution_count": null,
   "id": "163fbcdd-9f48-42e6-9fba-7f1e8bc74f97",
   "metadata": {},
   "outputs": [],
   "source": [
    "#cd /content/drive/My Drive"
   ]
  },
  {
   "cell_type": "code",
   "execution_count": null,
   "id": "b849c5f5-a230-4a72-9251-a80d6adda0fb",
   "metadata": {},
   "outputs": [],
   "source": [
    "#!pip install musdb"
   ]
  },
  {
   "cell_type": "code",
   "execution_count": null,
   "id": "676fb8ac-c7f2-4b79-b90e-d52d575d8dbc",
   "metadata": {},
   "outputs": [],
   "source": [
    "### IMPORTS ###"
   ]
  },
  {
   "cell_type": "code",
   "execution_count": null,
   "id": "35e6f3e4-56d3-48e3-8abe-75acf4de9358",
   "metadata": {},
   "outputs": [],
   "source": [
    "import musdb\n",
    "import os\n",
    "import torch\n",
    "import torch.optim as optim\n",
    "import torch.nn as nn\n",
    "from moviepy.editor import AudioFileClip, ColorClip\n",
    "from scipy.io.wavfile import write\n",
    "import pickle\n",
    "from tqdm.notebook import tqdm\n",
    "import numpy as np"
   ]
  },
  {
   "cell_type": "code",
   "execution_count": null,
   "id": "dfea8f40-9e0a-4262-9f8a-88823651f43d",
   "metadata": {},
   "outputs": [],
   "source": [
    "from modules.model import ssnet\n",
    "from modules.build_dataset import process_audio"
   ]
  },
  {
   "cell_type": "code",
   "execution_count": null,
   "id": "8231dd41-9c23-49fa-b5c5-a0a63d3f48e7",
   "metadata": {},
   "outputs": [],
   "source": []
  },
  {
   "cell_type": "code",
   "execution_count": null,
   "id": "8c5b0248-4888-4426-aa8a-655185957ed4",
   "metadata": {},
   "outputs": [],
   "source": [
    "### BUILD DATASET ###\n",
    "\n",
    "# mus.audio : The mixture\n",
    "# mus.stems[0] : The mixture\n",
    "# mus.stems[1] : The drums\n",
    "# mus.stems[2] : The bass\n",
    "# mus.stems[3] : Rest of the accompaniment\n",
    "# mus.stems[4] : The vocals\n",
    "\n",
    "# TODO: We want the input to be the mixture (stems[1] or mus.audio)\n",
    "# --> target has to be everything but vocals, thus: Find a way to mix stems[1], stems[2], stems[3]\n",
    "# --> temporarly here the target is stems[4] (vocals)\n"
   ]
  },
  {
   "cell_type": "code",
   "execution_count": null,
   "id": "f3380eac-d7e0-4dd4-a400-bc492644e157",
   "metadata": {},
   "outputs": [],
   "source": []
  },
  {
   "cell_type": "code",
   "execution_count": null,
   "id": "db229246-f82f-4384-beb8-5f09b005d023",
   "metadata": {},
   "outputs": [],
   "source": [
    "# Set the MUSDB_PATH environment variable\n",
    "os.environ['MUSDB_PATH'] = 'data/musdb18'\n",
    "# Initialize the musdb datasets\n",
    "mus_train = musdb.DB(subsets=\"train\", split='train')\n",
    "mus_valid = musdb.DB(subsets=\"train\", split='valid')\n",
    "mus_test = musdb.DB(subsets=\"test\")"
   ]
  },
  {
   "cell_type": "code",
   "execution_count": null,
   "id": "dc44b344-e96e-4c47-b3f2-7570ee1e3bd5",
   "metadata": {},
   "outputs": [],
   "source": []
  },
  {
   "cell_type": "code",
   "execution_count": null,
   "id": "28e8643c-9f38-4585-bf72-9c04165291cb",
   "metadata": {},
   "outputs": [],
   "source": [
    "FRAME_LENGTH = 30000\n",
    "MAX_AUDIO_LENGTH = 9000000"
   ]
  },
  {
   "cell_type": "code",
   "execution_count": null,
   "id": "0581d1e1-5d03-4c9d-a95b-88f056b86001",
   "metadata": {},
   "outputs": [],
   "source": [
    "X_train, y_train = process_audio(mus_train, tag='train', frame_length=FRAME_LENGTH, max_audio_length=MAX_AUDIO_LENGTH)\n",
    "#X_train, y_train = pickle.load(open('train_set.pkl', 'rb'))\n",
    "\n",
    "X_valid, y_valid = process_audio(mus_valid, tag='valid', frame_length=FRAME_LENGTH, max_audio_length=MAX_AUDIO_LENGTH)\n",
    "#X_valid, y_valid = pickle.load(open('valid_set.pkl', 'rb'))\n",
    "\n",
    "X_test, y_test = process_audio(mus_test, tag='test', frame_length=FRAME_LENGTH, max_audio_length=MAX_AUDIO_LENGTH)\n",
    "#X_test, y_test = pickle.load(open('test_set.pkl', 'rb'))"
   ]
  },
  {
   "cell_type": "code",
   "execution_count": null,
   "id": "63cce703-2fd1-4131-96b8-40690f0485de",
   "metadata": {},
   "outputs": [],
   "source": []
  },
  {
   "cell_type": "code",
   "execution_count": null,
   "id": "0f1ba86a-d172-4a71-a2bf-55add0b0ba95",
   "metadata": {},
   "outputs": [],
   "source": [
    "!python train_script.py train_split valid_split 8 10 0.001 0.0001 'run'"
   ]
  },
  {
   "cell_type": "code",
   "execution_count": null,
   "id": "7c158e5c-6009-4178-9611-96027b6ba75e",
   "metadata": {},
   "outputs": [],
   "source": []
  }
 ],
 "metadata": {
  "kernelspec": {
   "display_name": "Python 3 (ipykernel)",
   "language": "python",
   "name": "python3"
  },
  "language_info": {
   "codemirror_mode": {
    "name": "ipython",
    "version": 3
   },
   "file_extension": ".py",
   "mimetype": "text/x-python",
   "name": "python",
   "nbconvert_exporter": "python",
   "pygments_lexer": "ipython3",
   "version": "3.9.18"
  }
 },
 "nbformat": 4,
 "nbformat_minor": 5
}
