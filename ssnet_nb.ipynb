{
 "cells": [
  {
   "cell_type": "code",
   "execution_count": null,
   "id": "e341d394-3e01-47af-8c01-fb74e030ef1f",
   "metadata": {},
   "outputs": [],
   "source": [
    "### FOR COLAB ONLY ###"
   ]
  },
  {
   "cell_type": "code",
   "execution_count": null,
   "id": "dfba7f55-280f-4e41-98c1-58dd5e448b45",
   "metadata": {},
   "outputs": [],
   "source": [
    "#from google.colab import drive\n",
    "#drive.mount('/content/drive', force_remount=True)"
   ]
  },
  {
   "cell_type": "code",
   "execution_count": null,
   "id": "163fbcdd-9f48-42e6-9fba-7f1e8bc74f97",
   "metadata": {},
   "outputs": [],
   "source": [
    "#cd /content/drive/My Drive/ssnet"
   ]
  },
  {
   "cell_type": "code",
   "execution_count": null,
   "id": "b849c5f5-a230-4a72-9251-a80d6adda0fb",
   "metadata": {},
   "outputs": [],
   "source": [
    "#!pip install musdb"
   ]
  },
  {
   "cell_type": "code",
   "execution_count": null,
   "id": "676fb8ac-c7f2-4b79-b90e-d52d575d8dbc",
   "metadata": {},
   "outputs": [],
   "source": [
    "### IMPORTS ###"
   ]
  },
  {
   "cell_type": "code",
   "execution_count": null,
   "id": "35e6f3e4-56d3-48e3-8abe-75acf4de9358",
   "metadata": {},
   "outputs": [],
   "source": [
    "import musdb\n",
    "import os\n",
    "import torch\n",
    "import torch.optim as optim\n",
    "import torch.nn as nn\n",
    "import pickle\n",
    "import numpy as np\n",
    "from torchmetrics.audio import SignalNoiseRatio, ScaleInvariantSignalNoiseRatio\n",
    "from scipy.io.wavfile import write"
   ]
  },
  {
   "cell_type": "code",
   "execution_count": null,
   "id": "dab4172c-d661-455b-80d0-19fe8a1c1b02",
   "metadata": {},
   "outputs": [],
   "source": [
    "from modules.model import ssnet\n",
    "from tqdm.notebook import tqdm\n",
    "from modules.utils import transform\n",
    "ssnet = ssnet()"
   ]
  },
  {
   "cell_type": "code",
   "execution_count": null,
   "id": "26a87543-33f3-4293-a44e-a972537d2371",
   "metadata": {},
   "outputs": [],
   "source": [
    "os.environ['MUSDB_PATH'] = \"data/musdb18\""
   ]
  },
  {
   "cell_type": "code",
   "execution_count": null,
   "id": "4c249e08-8177-4d2d-a550-9afb4e2ce18c",
   "metadata": {},
   "outputs": [],
   "source": [
    "mus_test = musdb.DB(subsets=\"test\")"
   ]
  },
  {
   "cell_type": "code",
   "execution_count": null,
   "id": "99c90ba5-e53e-41ce-90ff-1586f405d6ce",
   "metadata": {},
   "outputs": [],
   "source": []
  },
  {
   "cell_type": "code",
   "execution_count": null,
   "id": "4f68e90c-4a58-47c2-9eff-407c05284af3",
   "metadata": {},
   "outputs": [],
   "source": [
    "frame_length=50000"
   ]
  },
  {
   "cell_type": "code",
   "execution_count": null,
   "id": "ae5f2341-de8a-4ee3-8a1c-cb8f95c2ca75",
   "metadata": {
    "scrolled": true
   },
   "outputs": [],
   "source": [
    "track = []\n",
    "mixture_audio = mus_test[1].stems[0].T\n",
    "for start_idx in tqdm(range(0, mixture_audio.shape[1] - frame_length + 1, frame_length)):\n",
    "    # Extract the frames for mixture and target\n",
    "    X = transform(mixture_audio[:, start_idx:start_idx+frame_length])\n",
    "    pad = torch.zeros(2, 100)\n",
    "    X = torch.cat([pad, X, pad], dim=1).view(1,2,-1)\n",
    "    out = ssnet(X)[:,:,:,100:-100]\n",
    "    track.append(out.detach())"
   ]
  },
  {
   "cell_type": "code",
   "execution_count": null,
   "id": "cdb7216e-3326-406e-997a-977a6d6e2bb9",
   "metadata": {},
   "outputs": [],
   "source": []
  },
  {
   "cell_type": "code",
   "execution_count": null,
   "id": "2c839b58-0e8a-41cb-a294-5ce503724505",
   "metadata": {},
   "outputs": [],
   "source": [
    "track1 = [x[:,0,:,:].numpy() for x in track]\n",
    "track2 = [x[:,1,:,:].numpy() for x in track]\n",
    "track3 = [x[:,2,:,:].numpy() for x in track]\n",
    "track4 = [x[:,3,:,:].numpy() for x in track]\n",
    "\n",
    "track1 = np.concatenate(track1, axis=2).reshape(2,-1).T\n",
    "track2 = np.concatenate(track2, axis=2).reshape(2,-1).T\n",
    "track3 = np.concatenate(track3, axis=2).reshape(2,-1).T\n",
    "track4 = np.concatenate(track4, axis=2).reshape(2,-1).T\n",
    "\n",
    "sample_rate = 44100 \n",
    "#write('drums.wav', sample_rate, track1)\n",
    "#write('bass.wav', sample_rate, track2)\n",
    "#write('others.wav', sample_rate, track3)\n",
    "#write('vocals.wav', sample_rate, track4)"
   ]
  },
  {
   "cell_type": "code",
   "execution_count": null,
   "id": "93fca063-2169-4528-aba7-8cee1523aa8e",
   "metadata": {},
   "outputs": [],
   "source": []
  },
  {
   "cell_type": "code",
   "execution_count": null,
   "id": "0a2399ea-0113-419a-81e0-e52da377204f",
   "metadata": {},
   "outputs": [],
   "source": []
  }
 ],
 "metadata": {
  "kernelspec": {
   "display_name": "Python 3 (ipykernel)",
   "language": "python",
   "name": "python3"
  },
  "language_info": {
   "codemirror_mode": {
    "name": "ipython",
    "version": 3
   },
   "file_extension": ".py",
   "mimetype": "text/x-python",
   "name": "python",
   "nbconvert_exporter": "python",
   "pygments_lexer": "ipython3",
   "version": "3.9.18"
  }
 },
 "nbformat": 4,
 "nbformat_minor": 5
}
