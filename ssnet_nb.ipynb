{
 "cells": [
  {
   "cell_type": "code",
   "execution_count": 1,
   "id": "e341d394-3e01-47af-8c01-fb74e030ef1f",
   "metadata": {},
   "outputs": [],
   "source": [
    "### FOR COLAB ONLY ###"
   ]
  },
  {
   "cell_type": "code",
   "execution_count": 2,
   "id": "dfba7f55-280f-4e41-98c1-58dd5e448b45",
   "metadata": {},
   "outputs": [],
   "source": [
    "#from google.colab import drive\n",
    "#drive.mount('/content/drive', force_remount=True)"
   ]
  },
  {
   "cell_type": "code",
   "execution_count": 3,
   "id": "163fbcdd-9f48-42e6-9fba-7f1e8bc74f97",
   "metadata": {},
   "outputs": [],
   "source": [
    "#cd /content/drive/My Drive/ssnet"
   ]
  },
  {
   "cell_type": "code",
   "execution_count": 4,
   "id": "b849c5f5-a230-4a72-9251-a80d6adda0fb",
   "metadata": {},
   "outputs": [],
   "source": [
    "#!pip install musdb"
   ]
  },
  {
   "cell_type": "code",
   "execution_count": 5,
   "id": "676fb8ac-c7f2-4b79-b90e-d52d575d8dbc",
   "metadata": {},
   "outputs": [],
   "source": [
    "### IMPORTS ###"
   ]
  },
  {
   "cell_type": "code",
   "execution_count": 6,
   "id": "35e6f3e4-56d3-48e3-8abe-75acf4de9358",
   "metadata": {},
   "outputs": [],
   "source": [
    "import musdb\n",
    "import os\n",
    "import torch\n",
    "import torch.optim as optim\n",
    "import torch.nn as nn\n",
    "import pickle\n",
    "from tqdm.notebook import tqdm\n",
    "import numpy as np"
   ]
  },
  {
   "cell_type": "code",
   "execution_count": 8,
   "id": "8c5b0248-4888-4426-aa8a-655185957ed4",
   "metadata": {},
   "outputs": [],
   "source": [
    "### BUILD DATASET ###\n",
    "\n",
    "# mus.audio : The mixture\n",
    "# mus.stems[0] : The mixture\n",
    "# mus.stems[1] : The drums\n",
    "# mus.stems[2] : The bass\n",
    "# mus.stems[3] : Rest of the accompaniment\n",
    "# mus.stems[4] : The vocals\n",
    "\n",
    "# TODO: We want the input to be the mixture (stems[1] or mus.audio)\n",
    "# --> target has to be everything but vocals, thus: Find a way to mix stems[1], stems[2], stems[3]\n",
    "# --> temporarly here the target is stems[4] (vocals)\n"
   ]
  },
  {
   "cell_type": "code",
   "execution_count": null,
   "id": "f3380eac-d7e0-4dd4-a400-bc492644e157",
   "metadata": {},
   "outputs": [],
   "source": []
  },
  {
   "cell_type": "code",
   "execution_count": null,
   "id": "ef6679e4-4a08-4d62-8a16-f74be46b701f",
   "metadata": {},
   "outputs": [],
   "source": [
    "#!python dataset_script.py 30000 9000000"
   ]
  },
  {
   "cell_type": "code",
   "execution_count": null,
   "id": "0f1ba86a-d172-4a71-a2bf-55add0b0ba95",
   "metadata": {},
   "outputs": [],
   "source": [
    "#!python train_script.py train_split valid_split 8 10 0.001 0.0001 'run'"
   ]
  },
  {
   "cell_type": "code",
   "execution_count": null,
   "id": "f15dedb3-d3b3-4c62-badd-3580313b44a1",
   "metadata": {},
   "outputs": [],
   "source": []
  }
 ],
 "metadata": {
  "kernelspec": {
   "display_name": "Python 3 (ipykernel)",
   "language": "python",
   "name": "python3"
  },
  "language_info": {
   "codemirror_mode": {
    "name": "ipython",
    "version": 3
   },
   "file_extension": ".py",
   "mimetype": "text/x-python",
   "name": "python",
   "nbconvert_exporter": "python",
   "pygments_lexer": "ipython3",
   "version": "3.9.18"
  }
 },
 "nbformat": 4,
 "nbformat_minor": 5
}
