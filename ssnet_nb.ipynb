{
 "cells": [
  {
   "cell_type": "code",
   "execution_count": null,
   "id": "e341d394-3e01-47af-8c01-fb74e030ef1f",
   "metadata": {},
   "outputs": [],
   "source": [
    "### FOR COLAB ONLY ###"
   ]
  },
  {
   "cell_type": "code",
   "execution_count": null,
   "id": "dfba7f55-280f-4e41-98c1-58dd5e448b45",
   "metadata": {},
   "outputs": [],
   "source": [
    "#from google.colab import drive\n",
    "#drive.mount('/content/drive', force_remount=True)"
   ]
  },
  {
   "cell_type": "code",
   "execution_count": null,
   "id": "163fbcdd-9f48-42e6-9fba-7f1e8bc74f97",
   "metadata": {},
   "outputs": [],
   "source": [
    "#cd /content/drive/My Drive/ssnet"
   ]
  },
  {
   "cell_type": "code",
   "execution_count": null,
   "id": "b849c5f5-a230-4a72-9251-a80d6adda0fb",
   "metadata": {},
   "outputs": [],
   "source": [
    "#!pip install musdb"
   ]
  },
  {
   "cell_type": "code",
   "execution_count": null,
   "id": "676fb8ac-c7f2-4b79-b90e-d52d575d8dbc",
   "metadata": {},
   "outputs": [],
   "source": [
    "### IMPORTS ###"
   ]
  },
  {
   "cell_type": "code",
   "execution_count": 1,
   "id": "35e6f3e4-56d3-48e3-8abe-75acf4de9358",
   "metadata": {},
   "outputs": [],
   "source": [
    "import musdb\n",
    "import os\n",
    "import torch\n",
    "import torch.optim as optim\n",
    "import torch.nn as nn\n",
    "import pickle\n",
    "import numpy as np\n",
    "from torchmetrics.audio import SignalNoiseRatio, ScaleInvariantSignalNoiseRatio\n",
    "from scipy.io.wavfile import write"
   ]
  },
  {
   "cell_type": "code",
   "execution_count": 2,
   "id": "7cbd1c84-0e3e-4836-bd0a-ae62f965f305",
   "metadata": {},
   "outputs": [],
   "source": [
    "from modules.model import ssnet\n",
    "from tqdm.notebook import tqdm\n",
    "from modules.utils import transform\n",
    "ssnet = ssnet()"
   ]
  },
  {
   "cell_type": "code",
   "execution_count": 3,
   "id": "26a87543-33f3-4293-a44e-a972537d2371",
   "metadata": {},
   "outputs": [],
   "source": [
    "os.environ['MUSDB_PATH'] = \"data/musdb18\""
   ]
  },
  {
   "cell_type": "code",
   "execution_count": 4,
   "id": "4c249e08-8177-4d2d-a550-9afb4e2ce18c",
   "metadata": {},
   "outputs": [],
   "source": [
    "mus_test = musdb.DB(subsets=\"test\")"
   ]
  },
  {
   "cell_type": "code",
   "execution_count": 5,
   "id": "4f68e90c-4a58-47c2-9eff-407c05284af3",
   "metadata": {},
   "outputs": [],
   "source": [
    "frame_length=50000"
   ]
  },
  {
   "cell_type": "code",
   "execution_count": 12,
   "id": "ae5f2341-de8a-4ee3-8a1c-cb8f95c2ca75",
   "metadata": {
    "scrolled": true
   },
   "outputs": [
    {
     "data": {
      "application/vnd.jupyter.widget-view+json": {
       "model_id": "be9ae801ea414895a0f8372cef9c56ef",
       "version_major": 2,
       "version_minor": 0
      },
      "text/plain": [
       "  0%|          | 0/176 [00:00<?, ?it/s]"
      ]
     },
     "metadata": {},
     "output_type": "display_data"
    }
   ],
   "source": [
    "track = []\n",
    "mixture_audio = mus_test[1].stems[0].T\n",
    "for start_idx in tqdm(range(0, mixture_audio.shape[1] - frame_length + 1, frame_length)):\n",
    "    # Extract the frames for mixture and target\n",
    "    X = transform(mixture_audio[:, start_idx:start_idx+frame_length])\n",
    "    pad = torch.zeros(2, 100)\n",
    "    X = torch.cat([pad, X, pad], dim=1).view(1,2,-1)\n",
    "    out = ssnet(X)[:,:,:,100:-100]\n",
    "    track.append(out.detach())"
   ]
  },
  {
   "cell_type": "code",
   "execution_count": 20,
   "id": "2c839b58-0e8a-41cb-a294-5ce503724505",
   "metadata": {},
   "outputs": [],
   "source": [
    "track1 = [x[:,0,:,:].numpy() for x in track]\n",
    "track2 = [x[:,1,:,:].numpy() for x in track]\n",
    "track3 = [x[:,2,:,:].numpy() for x in track]\n",
    "track4 = [x[:,3,:,:].numpy() for x in track]"
   ]
  },
  {
   "cell_type": "code",
   "execution_count": 14,
   "id": "6af71ba8-f67d-49fb-a2fd-54a464229e8f",
   "metadata": {},
   "outputs": [],
   "source": [
    "track1 = np.concatenate(track1, axis=2).reshape(2,-1).T\n",
    "track2 = np.concatenate(track2, axis=2).reshape(2,-1).T\n",
    "track3 = np.concatenate(track3, axis=2).reshape(2,-1).T\n",
    "track4 = np.concatenate(track4, axis=2).reshape(2,-1).T"
   ]
  },
  {
   "cell_type": "code",
   "execution_count": 17,
   "id": "54069892-f1ae-4be2-b73c-82548371c0f7",
   "metadata": {},
   "outputs": [],
   "source": [
    "track1 = np.int16(track1 / np.max(np.abs(track1)) * 32767)\n",
    "track2 = np.int16(track2 / np.max(np.abs(track2)) * 32767)\n",
    "track3 = np.int16(track3 / np.max(np.abs(track3)) * 32767)\n",
    "track4 = np.int16(track4 / np.max(np.abs(track4)) * 32767)"
   ]
  },
  {
   "cell_type": "code",
   "execution_count": 18,
   "id": "0eb18836-1efe-4cdb-883b-5c513384fe9a",
   "metadata": {},
   "outputs": [],
   "source": [
    "sample_rate = 44100 "
   ]
  },
  {
   "cell_type": "code",
   "execution_count": 19,
   "id": "d75d1e03-8a64-437d-aaf8-45c922411b37",
   "metadata": {},
   "outputs": [],
   "source": [
    "write('drums.wav', sample_rate, track1)\n",
    "write('bass.wav', sample_rate, track2)\n",
    "write('others.wav', sample_rate, track3)\n",
    "write('vocals.wav', sample_rate, track4)"
   ]
  },
  {
   "cell_type": "code",
   "execution_count": null,
   "id": "d3d8c681-c2cf-4e28-be55-7b6ecb7d3256",
   "metadata": {},
   "outputs": [],
   "source": []
  },
  {
   "cell_type": "code",
   "execution_count": null,
   "id": "f3380eac-d7e0-4dd4-a400-bc492644e157",
   "metadata": {},
   "outputs": [],
   "source": []
  },
  {
   "cell_type": "code",
   "execution_count": null,
   "id": "ef6679e4-4a08-4d62-8a16-f74be46b701f",
   "metadata": {},
   "outputs": [],
   "source": [
    "#!python dataset_script.py 30000 9000000"
   ]
  },
  {
   "cell_type": "code",
   "execution_count": null,
   "id": "0f1ba86a-d172-4a71-a2bf-55add0b0ba95",
   "metadata": {},
   "outputs": [],
   "source": [
    "#!python train_script.py train_split valid_split 8 10 0.001 0.0001 'run'"
   ]
  },
  {
   "cell_type": "code",
   "execution_count": null,
   "id": "f15dedb3-d3b3-4c62-badd-3580313b44a1",
   "metadata": {},
   "outputs": [],
   "source": []
  }
 ],
 "metadata": {
  "kernelspec": {
   "display_name": "Python 3 (ipykernel)",
   "language": "python",
   "name": "python3"
  },
  "language_info": {
   "codemirror_mode": {
    "name": "ipython",
    "version": 3
   },
   "file_extension": ".py",
   "mimetype": "text/x-python",
   "name": "python",
   "nbconvert_exporter": "python",
   "pygments_lexer": "ipython3",
   "version": "3.9.18"
  }
 },
 "nbformat": 4,
 "nbformat_minor": 5
}
